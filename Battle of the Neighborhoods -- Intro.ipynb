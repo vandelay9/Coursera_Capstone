{
 "cells": [
  {
   "cell_type": "markdown",
   "metadata": {
    "collapsed": true
   },
   "source": [
    "# All That Jazz:\n",
    "\n",
    "# Applied Data Science Capstone Project Final Report"
   ]
  },
  {
   "cell_type": "markdown",
   "metadata": {},
   "source": [
    "## Introduction\n",
    "\n",
    "The city of Toronto is geographically situated between Detroit and Montreal, two cities renowned for their respective jazz scenes. Toronto, despite its status as a major metropolitan center, has not achieved the same distinction as a hub for jazz artists and aficionados. This leaves room for opportunity to fill this niche. As such, in this project I have taken on the role of entrepreneur, seeking an ideal location within Toronto to open a new jazz club -- a bar/restaurant specializing in soul food cuisine, with an intimate aesthetic and performance space dedicated to providing an outlet for local musicians."
   ]
  },
  {
   "cell_type": "markdown",
   "metadata": {},
   "source": [
    "# Business Problem\n",
    "\n",
    "The objective of this project is to determine the ideal location(s) for the aforementioned business. Using data science and machine learning methods, I will information pertinent to the question of where, in the city of Toronto, an enterprising jazz devotee should consider opening a new establishment."
   ]
  },
  {
   "cell_type": "code",
   "execution_count": null,
   "metadata": {},
   "outputs": [],
   "source": []
  }
 ],
 "metadata": {
  "kernelspec": {
   "display_name": "Python 3.6",
   "language": "python",
   "name": "python3"
  },
  "language_info": {
   "codemirror_mode": {
    "name": "ipython",
    "version": 3
   },
   "file_extension": ".py",
   "mimetype": "text/x-python",
   "name": "python",
   "nbconvert_exporter": "python",
   "pygments_lexer": "ipython3",
   "version": "3.6.8"
  }
 },
 "nbformat": 4,
 "nbformat_minor": 1
}
